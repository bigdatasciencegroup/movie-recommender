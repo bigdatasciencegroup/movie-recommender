{
 "cells": [
  {
   "cell_type": "code",
   "execution_count": 1,
   "metadata": {},
   "outputs": [],
   "source": [
    "import findspark\n",
    "findspark.init()\n",
    "\n",
    "\n",
    "import pyspark\n",
    "import sys\n",
    "import re\n",
    "import random\n",
    "\n",
    "#from numpy import sqrt\n",
    "from pyspark import SparkConf, SparkContext\n",
    "sc = SparkContext(appName = \"MovieLens\")\n",
    "sc.addPyFile(\"similaritycos.py\")\n",
    "sc.addPyFile(\"movielensfcn.py\")\n",
    "import similaritycos\n",
    "import movielensfcn\n",
    "from movielensfcn import parseMovies, uniqueFilter, itemitem\n",
    "from similaritycos import cosine_similarity"
   ]
  },
  {
   "cell_type": "code",
   "execution_count": 2,
   "metadata": {},
   "outputs": [],
   "source": [
    "numPartitions = 11\n",
    "movies_data = sc.textFile(\"/data/movie-ratings/movies.dat\")\n",
    "ratings_data = sc.textFile(\"/data/movie-ratings/ratings.dat\")\n",
    "\n",
    "movies= movies_data.map(lambda line: re.split(r'::',line)).map(lambda x: (int(x[0]),(x[1],x[2])))\n",
    "\n",
    "ratings = ratings_data.map(lambda line: re.split(r'::',line)).map(lambda x: (int(x[0]),(int(x[1]),float(x[2])))).repartition(numPartitions)\n",
    "\n",
    "user_ratings_data= ratings.join(ratings)\n",
    "\n",
    "uniqueJoin = user_ratings_data.filter(uniqueFilter)\n",
    "\n",
    "movie_pairs = uniqueJoin.map(itemitem)\n",
    "\n",
    "movie_pairs_ratings=movie_pairs.groupByKey()\n",
    "\n",
    "item_item_similarities = movie_pairs_ratings.mapValues(cosine_similarity).cache()\n",
    "\n",
    "item_item_sorted=item_item_similarities.sortByKey()\n",
    "\n",
    "#item_item_filtered = item_item_sorted.filter(lambda x: x[1][0] >= 0.8)\n",
    "\n",
    "item_item_sorted.saveAsTextFile(\"movie-similar3\")"
   ]
  },
  {
   "cell_type": "code",
   "execution_count": 3,
   "metadata": {},
   "outputs": [
    {
     "ename": "ValueError",
     "evalue": "invalid literal for int() with base 10: '-f'",
     "output_type": "error",
     "traceback": [
      "\u001b[0;31m---------------------------------------------------------------------------\u001b[0m",
      "\u001b[0;31mValueError\u001b[0m                                Traceback (most recent call last)",
      "\u001b[0;32m<ipython-input-3-926108f8d395>\u001b[0m in \u001b[0;36m<module>\u001b[0;34m()\u001b[0m\n\u001b[1;32m      2\u001b[0m     \u001b[0mscoreThreshold\u001b[0m \u001b[0;34m=\u001b[0m \u001b[0;36m0.97\u001b[0m\u001b[0;34m\u001b[0m\u001b[0m\n\u001b[1;32m      3\u001b[0m     \u001b[0mcoOccurenceThreshold\u001b[0m \u001b[0;34m=\u001b[0m \u001b[0;36m50\u001b[0m\u001b[0;34m\u001b[0m\u001b[0m\n\u001b[0;32m----> 4\u001b[0;31m     \u001b[0mmovieID\u001b[0m \u001b[0;34m=\u001b[0m \u001b[0mint\u001b[0m\u001b[0;34m(\u001b[0m\u001b[0msys\u001b[0m\u001b[0;34m.\u001b[0m\u001b[0margv\u001b[0m\u001b[0;34m[\u001b[0m\u001b[0;36m1\u001b[0m\u001b[0;34m]\u001b[0m\u001b[0;34m)\u001b[0m\u001b[0;34m\u001b[0m\u001b[0m\n\u001b[0m\u001b[1;32m      5\u001b[0m     \u001b[0mfilteredResults\u001b[0m \u001b[0;34m=\u001b[0m \u001b[0mmovie_movie_Similarities\u001b[0m\u001b[0;34m.\u001b[0m\u001b[0mfilter\u001b[0m\u001b[0;34m(\u001b[0m\u001b[0;32mlambda\u001b[0m\u001b[0;34m(\u001b[0m\u001b[0;34m(\u001b[0m\u001b[0mpair\u001b[0m\u001b[0;34m,\u001b[0m\u001b[0msim\u001b[0m\u001b[0;34m)\u001b[0m\u001b[0;34m)\u001b[0m\u001b[0;34m:\u001b[0m \u001b[0;34m(\u001b[0m\u001b[0mpair\u001b[0m\u001b[0;34m[\u001b[0m\u001b[0;36m0\u001b[0m\u001b[0;34m]\u001b[0m \u001b[0;34m==\u001b[0m \u001b[0mmovieID\u001b[0m \u001b[0;32mor\u001b[0m \u001b[0mpair\u001b[0m\u001b[0;34m[\u001b[0m\u001b[0;36m1\u001b[0m\u001b[0;34m]\u001b[0m \u001b[0;34m==\u001b[0m \u001b[0mmovieID\u001b[0m\u001b[0;34m)\u001b[0m \u001b[0;32mand\u001b[0m \u001b[0msim\u001b[0m\u001b[0;34m[\u001b[0m\u001b[0;36m0\u001b[0m\u001b[0;34m]\u001b[0m \u001b[0;34m>\u001b[0m \u001b[0mscoreThreshold\u001b[0m \u001b[0;32mand\u001b[0m \u001b[0msim\u001b[0m\u001b[0;34m[\u001b[0m\u001b[0;36m1\u001b[0m\u001b[0;34m]\u001b[0m \u001b[0;34m>\u001b[0m \u001b[0mcoOccurenceThreshold\u001b[0m\u001b[0;34m)\u001b[0m\u001b[0;34m\u001b[0m\u001b[0m\n",
      "\u001b[0;31mValueError\u001b[0m: invalid literal for int() with base 10: '-f'"
     ]
    }
   ],
   "source": [
    "# if (len(sys.argv)> 1):\n",
    "#     scoreThreshold = 0.97\n",
    "#     coOccurenceThreshold = 50\n",
    "#     movieID = int(sys.argv[1])\n",
    "#     filteredResults = movie_movie_Similarities.filter(lambda((pair,sim)): \\\n",
    "#         (pair[0] == movieID or pair[1] == movieID) \\ \n",
    "#         and sim[0] > scoreThreshold and sim[1] > coOccurenceThreshold)"
   ]
  },
  {
   "cell_type": "code",
   "execution_count": null,
   "metadata": {},
   "outputs": [],
   "source": [
    "# results = filteredResults.map(lambda((pair,sim)): (sim,pair)).sortByKey(ascending = False).take(10)"
   ]
  }
 ],
 "metadata": {
  "kernelspec": {
   "display_name": "Python 2",
   "language": "python",
   "name": "python2"
  },
  "language_info": {
   "codemirror_mode": {
    "name": "ipython",
    "version": 2
   },
   "file_extension": ".py",
   "mimetype": "text/x-python",
   "name": "python",
   "nbconvert_exporter": "python",
   "pygments_lexer": "ipython2",
   "version": "2.7.5"
  }
 },
 "nbformat": 4,
 "nbformat_minor": 2
}
