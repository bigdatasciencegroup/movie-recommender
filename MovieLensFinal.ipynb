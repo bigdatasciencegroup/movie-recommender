{
 "cells": [
  {
   "cell_type": "markdown",
   "metadata": {},
   "source": [
    "# Big Data Processing Coursework\n",
    "\n",
    "\n",
    "\n",
    "\n",
    "\n",
    "In this short notebook, we will load and explore the movielens dataset. Specifically, this notebook covers:\n",
    "\n",
    "Loading data in memory\n",
    "Creating SQLContext\n",
    "Creating Spark DataFrame\n",
    "Group data by columns\n",
    "Operating on columns\n",
    "Running SQL Queries from a Spark DataFrame\n",
    "Loading in a DataFrame"
   ]
  },
  {
   "cell_type": "markdown",
   "metadata": {},
   "source": [
    "Build a recommendation system which uses transactional data linking a user and an item to get a list of items to recommend to the user. There are 2 approaches:\n",
    "## Collaborative Filtering\n",
    "In the MovieLens dataset, there are movies previously rated by a user, and the view is to attempt to identify if users who previously behaved similarly, ie liked/ disliked similar movies in the past, will have similar behaviors in the future. The input information is a user and the output is a list of items and their associated score. \n",
    "## Content based Filtering\n",
    "In the MovieLens dataset, there are further information contained about each individual item, ie the movie and there are additional information supplied such as tags by users, genre information which can be used to further compare similar items.  The input information would be a model and the output information a list of items and their associated score."
   ]
  },
  {
   "cell_type": "markdown",
   "metadata": {},
   "source": [
    "Importing External files/Libraries¶"
   ]
  },
  {
   "cell_type": "markdown",
   "metadata": {},
   "source": [
    "Ensure the environment variables for spark is setup correctly"
   ]
  },
  {
   "cell_type": "code",
   "execution_count": 9,
   "metadata": {},
   "outputs": [],
   "source": [
    "import os\n",
    "os.environ['SPARK_HOME']='/usr/lib/spark'"
   ]
  },
  {
   "cell_type": "markdown",
   "metadata": {},
   "source": [
    "To use print function from python 3, use the from future command.  Ensure that jupyter notebook can find spark by using the findspark library, this references SPARK_HOME environment variable set up earlier.  Any external libraries imported need to be installed using pip install example, however if lacking admin permissions do pip install example --user  for example pip install sys --user.  Any error that has ImportError: No module named example means a pip install is required for a module named example."
   ]
  },
  {
   "cell_type": "code",
   "execution_count": 10,
   "metadata": {},
   "outputs": [],
   "source": [
    "#!/usr/bin/python\n",
    "from __future__ import print_function \n",
    "\n",
    "import findspark\n",
    "findspark.init()\n",
    "\n",
    "from pyspark import SparkConf, SparkContext,sql\n",
    "\n",
    "import sys\n",
    "import re\n",
    "import random\n",
    "import array\n",
    "import numpy as np\n",
    "import scipy.sparse as sps\n"
   ]
  },
  {
   "cell_type": "markdown",
   "metadata": {},
   "source": [
    "This program was tested with the following versions:"
   ]
  },
  {
   "cell_type": "code",
   "execution_count": 1,
   "metadata": {},
   "outputs": [
    {
     "data": {
      "application/json": {
       "Software versions": [
        {
         "module": "Python",
         "version": "2.7.5 64bit [GCC 4.8.5 20150623 (Red Hat 4.8.5-11)]"
        },
        {
         "module": "IPython",
         "version": "5.5.0"
        },
        {
         "module": "OS",
         "version": "Linux 3.10.0 514.el7.x86_64 x86_64 with centos 7.3.1611 Core"
        },
        {
         "module": "numpy",
         "version": "1.7.1"
        },
        {
         "module": "scipy",
         "version": "0.12.1"
        },
        {
         "module": "matplotlib",
         "version": "2.0.2"
        }
       ]
      },
      "text/html": [
       "<table><tr><th>Software</th><th>Version</th></tr><tr><td>Python</td><td>2.7.5 64bit [GCC 4.8.5 20150623 (Red Hat 4.8.5-11)]</td></tr><tr><td>IPython</td><td>5.5.0</td></tr><tr><td>OS</td><td>Linux 3.10.0 514.el7.x86_64 x86_64 with centos 7.3.1611 Core</td></tr><tr><td>numpy</td><td>1.7.1</td></tr><tr><td>scipy</td><td>0.12.1</td></tr><tr><td>matplotlib</td><td>2.0.2</td></tr><tr><td colspan='2'>Sun Jan 07 19:56:05 2018 GMT</td></tr></table>"
      ],
      "text/latex": [
       "\\begin{tabular}{|l|l|}\\hline\n",
       "{\\bf Software} & {\\bf Version} \\\\ \\hline\\hline\n",
       "Python & 2.7.5 64bit [GCC 4.8.5 20150623 (Red Hat 4.8.5-11)] \\\\ \\hline\n",
       "IPython & 5.5.0 \\\\ \\hline\n",
       "OS & Linux 3.10.0 514.el7.x86\\_64 x86\\_64 with centos 7.3.1611 Core \\\\ \\hline\n",
       "numpy & 1.7.1 \\\\ \\hline\n",
       "scipy & 0.12.1 \\\\ \\hline\n",
       "matplotlib & 2.0.2 \\\\ \\hline\n",
       "\\hline \\multicolumn{2}{|l|}{Sun Jan 07 19:56:05 2018 GMT} \\\\ \\hline\n",
       "\\end{tabular}\n"
      ],
      "text/plain": [
       "Software versions\n",
       "Python 2.7.5 64bit [GCC 4.8.5 20150623 (Red Hat 4.8.5-11)]\n",
       "IPython 5.5.0\n",
       "OS Linux 3.10.0 514.el7.x86_64 x86_64 with centos 7.3.1611 Core\n",
       "numpy 1.7.1\n",
       "scipy 0.12.1\n",
       "matplotlib 2.0.2\n",
       "Sun Jan 07 19:56:05 2018 GMT"
      ]
     },
     "execution_count": 1,
     "metadata": {},
     "output_type": "execute_result"
    }
   ],
   "source": [
    "%reload_ext version_information\n",
    "%version_information numpy, scipy, matplotlib, pyspark"
   ]
  },
  {
   "cell_type": "markdown",
   "metadata": {},
   "source": [
    "## Load PySpark"
   ]
  },
  {
   "cell_type": "code",
   "execution_count": 2,
   "metadata": {},
   "outputs": [],
   "source": [
    "sc = SparkContext(appName = \"MovieLens\").getOrCreate()\n",
    "sqlContext = sql.SQLContext(sc)"
   ]
  },
  {
   "cell_type": "markdown",
   "metadata": {},
   "source": [
    "## Custom Functions "
   ]
  },
  {
   "cell_type": "markdown",
   "metadata": {},
   "source": [
    "Functions for parsing movielens data and functions for comparing item similarity"
   ]
  },
  {
   "cell_type": "code",
   "execution_count": 3,
   "metadata": {},
   "outputs": [],
   "source": [
    "sc.addPyFile(\"similarity.py\")\n",
    "sc.addPyFile(\"movielensfcn.py\")\n",
    "from movielensfcn import parseMovies, removeDuplicates, itemItem\n",
    "from similarity import cosine_similarity, jaccard_similarity"
   ]
  },
  {
   "cell_type": "markdown",
   "metadata": {},
   "source": [
    "First, let's get the data that we will working with in this notebook. We are using two files from the MovieLens dataset"
   ]
  },
  {
   "cell_type": "code",
   "execution_count": 1,
   "metadata": {},
   "outputs": [],
   "source": [
    "#!wget --quiet http://www.grouplens.org/system/files/ml-100k.zip | unzip -q -o -d /data/movie-ratings/ | hadoop fs -put - /data/movie-ratings/"
   ]
  },
  {
   "cell_type": "code",
   "execution_count": 5,
   "metadata": {},
   "outputs": [
    {
     "name": "stdout",
     "output_type": "stream",
     "text": [
      "Found 5 items\r\n",
      "drwxr-xr-x   - alvarogr ECS640U          0 2017-12-11 11:52 /data/movie-ratings/cv\r\n",
      "drwxr-xr-x   - hdfs     bigdata          0 2015-12-01 10:57 /data/movie-ratings/ml-10M100K\r\n",
      "-rw-r--r--   3 hdfs     bigdata     522197 2015-12-01 10:17 /data/movie-ratings/movies.dat\r\n",
      "-rw-r--r--   3 hdfs     bigdata  265105635 2015-12-01 10:17 /data/movie-ratings/ratings.dat\r\n",
      "-rw-r--r--   3 hdfs     bigdata    3584119 2015-12-01 10:17 /data/movie-ratings/tags.dat\r\n"
     ]
    }
   ],
   "source": [
    "!hadoop fs -ls  '/data/movie-ratings'"
   ]
  },
  {
   "cell_type": "code",
   "execution_count": 6,
   "metadata": {},
   "outputs": [
    {
     "name": "stdout",
     "output_type": "stream",
     "text": [
      "Found 6 items\r\n",
      "-rw-r--r--   3 hdfs bigdata      11135 2015-12-01 10:57 /data/movie-ratings/ml-10M100K/README.html\r\n",
      "-rw-r--r--   3 hdfs bigdata        753 2015-12-01 10:57 /data/movie-ratings/ml-10M100K/allbut.pl\r\n",
      "-rw-r--r--   3 hdfs bigdata     522197 2015-12-01 10:57 /data/movie-ratings/ml-10M100K/movies.dat\r\n",
      "-rw-r--r--   3 hdfs bigdata  265105635 2015-12-01 10:57 /data/movie-ratings/ml-10M100K/ratings.dat\r\n",
      "-rw-r--r--   3 hdfs bigdata       1092 2015-12-01 10:57 /data/movie-ratings/ml-10M100K/split_ratings.sh\r\n",
      "-rw-r--r--   3 hdfs bigdata    3584119 2015-12-01 10:57 /data/movie-ratings/ml-10M100K/tags.dat\r\n"
     ]
    }
   ],
   "source": [
    "!hadoop fs -ls  '/data/movie-ratings/ml-10M100K'"
   ]
  },
  {
   "cell_type": "code",
   "execution_count": 5,
   "metadata": {},
   "outputs": [
    {
     "name": "stdout",
     "output_type": "stream",
     "text": [
      "<!DOCTYPE html PUBLIC \"-//W3C//DTD XHTML 1.0 Strict//EN\"\r\n",
      "  \"http://www.w3.org/TR/xhtml1/DTD/xhtml1-strict.dtd\">\r\n",
      "<html xmlns=\"http://www.w3.org/1999/xhtml\" lang=\"en\" xml:lang=\"en\">\r\n",
      "  <head>\r\n",
      "    <meta http-equiv=\"Content-Type\" content=\"text/html;charset=utf-8\" />\r\n",
      "    <style type=\"text/css\">\r\n",
      "      h1 {\r\n",
      "        color:#fc3;\r\n",
      "        font-family:\"Lucida Grande\",Verdana,sans-serif; \r\n",
      "        font-size: 150%; \r\n",
      "        font-weight: normal; \r\n",
      "        margin:34px 0 0;\r\n",
      "        background-color: #7A0019;\r\n",
      "      }\r\n",
      "      p {\r\n",
      "        margin-left: 20px;\r\n",
      "      }\r\n",
      "      p.file_line_structure {\r\n",
      "        margin-left: 40px;\r\n",
      "      }\r\n",
      "      table {\r\n",
      "        margin-left: 30px;\r\n",
      "      }\r\n",
      "      th {\r\n",
      "        text-align:left;\r\n",
      "      }\r\n",
      "    </style>\r\n",
      "\r\n",
      "    <title>MovieLens 10M/100k Data Set README</title>\r\n",
      "  </head>\r\n",
      "  <body>\r\n",
      "    <h1>\r\n",
      "        Summary\r\n",
      "    </h1>\r\n",
      "    <p>\r\n",
      "      This data set contains 10000054 ratings and 95580 tags \r\n",
      "      applied to 10681 movies by 71567 users of the \r\n",
      "      online movie recommender service <a href=\"http://www.movielens.org\">MovieLens</a>.\r\n",
      "    </p>\r\n",
      "    <p>\r\n",
      "      Users were selected at random for inclusion.  All users selected had rated \r\n",
      "      at least 20 movies.  Unlike previous MovieLens data sets, no demographic \r\n",
      "      information is included.  Each user is represented by an id, and no other \r\n",
      "      information is provided.\r\n",
      "    </p>\r\n",
      "\r\n",
      "    <p>\r\n",
      "      The data are contained in three files, <code>movies.dat</code>, \r\n",
      "      <code>ratings.dat</code> and <code>tags.dat</code>.\r\n",
      "      Also included are scripts for generating subsets of the data to support five-fold\r\n",
      "      cross-validation of rating predictions.  More details about the contents and use\r\n",
      "      of all these files <a href=\"#file_desc\">follows</a>.\r\n",
      "    </p>\r\n",
      "\r\n",
      "    <p>\r\n",
      "      This and other GroupLens data sets are publicly available for download at \r\n",
      "      <a href=\"http://www.grouplens.org/taxonomy/term/14\">GroupLens Data Sets</a>.\r\n",
      "    </p>\r\n",
      "    <h1>\r\n",
      "      Usage License\r\n",
      "    </h1>\r\n",
      "    <p>\r\n",
      "      Neither the University of Minnesota nor any of the researchers\r\n",
      "      involved can guarantee the correctness of the data, its suitability\r\n",
      "      for any particular purpose, or the validity of results based on the\r\n",
      "      use of the data set.  The data set may be used for any research\r\n",
      "      purposes under the following conditions:\r\n",
      "    </p>\r\n",
      "    <ul>\r\n",
      "        <li>The user may not state or imply any endorsement from the\r\n",
      "       University of Minnesota or the GroupLens Research Group.</li>\r\n",
      "\r\n",
      "        <li>The user must acknowledge the use of the data set in\r\n",
      "       publications resulting from the use of the data set, and must\r\n",
      "       send us an electronic or paper copy of those publications.</li>\r\n",
      "\r\n",
      "        <li>The user may not redistribute the data without separate\r\n",
      "       permission.</li>\r\n",
      "\r\n",
      "        <li>The user may not use this information for any commercial or\r\n",
      "       revenue-bearing purposes without first obtaining permission\r\n",
      "       from a faculty member of the GroupLens Research Project at the\r\n",
      "       University of Minnesota.</li>\r\n",
      "    </ul>\r\n",
      "    <p>\r\n",
      "      The executable software scripts are provided \"as is\" without warranty \r\n",
      "      of any kind, either expressed or implied, including, but not limited to, \r\n",
      "      the implied warranties of merchantability and fitness for a particular purpose. \r\n",
      "      The entire risk as to the quality and performance of them is with you. \r\n",
      "      Should the program prove defective, you assume the cost of all \r\n",
      "      necessary servicing, repair or correction.\r\n",
      "    </p>\r\n",
      "    <p>\r\n",
      "      In no event shall the University of Minnesota, its affiliates or employees \r\n",
      "      be liable to you for any damages arising out of the use or inability to use \r\n",
      "      these programs (including but not limited to loss of data or data being \r\n",
      "      rendered inaccurate).\r\n",
      "    </p>\r\n",
      "\r\n",
      "    <p>\r\n",
      "      If you have any further questions or comments, please email <a href='mailto:grouplens-info@cs.umn.edu'>grouplens-info</a>\r\n",
      "    </p>\r\n",
      "\r\n",
      "    <h1>\r\n",
      "        Acknowledgements\r\n",
      "    </h1>\r\n",
      "    <p>\r\n",
      "      Thanks to Rich Davies for generating the data set.\r\n",
      "    </p>\r\n",
      "\r\n",
      "    <h1>\r\n",
      "        Further Information About GroupLens\r\n",
      "    </h1>\r\n",
      "    <p>\r\n",
      "      <a href=\"http://www.grouplens.org/\">GroupLens</a> is a research group in the \r\n",
      "      <a href=\"http://www.cs.umn.edu/\">Department of Computer Science and Engineering</a>\r\n",
      "      at the <a href=\"http://www.umn.edu/\">University of Minnesota</a>.  Since its \r\n",
      "      inception in 1992, GroupLens' research projects have explored a variety of fields\r\n",
      "      including: \r\n",
      "    </p>\r\n",
      "    <ul>\r\n",
      "      <li>Information Filtering</li>\r\n",
      "      <li>Recommender Systems</li>\r\n",
      "      <li>Online Communities</li>\r\n",
      "      <li>Mobile and Ubiquitious Technologies</li>\r\n",
      "      <li>Digital Libraries</li>\r\n",
      "      <li>Local Geographic Information Systems.</li>\r\n",
      "    </ul>\r\n",
      "    <p>\r\n",
      "      GroupLens Research operates a movie recommender based on\r\n",
      "      collaborative filtering, <a href=\"http://www.movielens.org/\">MovieLens</a>,\r\n",
      "      which is the source of these data.\r\n",
      "    </p>\r\n",
      "\r\n",
      "    <h1 id=\"file_desc\">\r\n",
      "      Content and Use of Files\r\n",
      "    </h1>\r\n",
      "\r\n",
      "    <h2>\r\n",
      "      Character Encoding\r\n",
      "    </h2>\r\n",
      "    <p>\r\n",
      "      The three data files are encoded as \r\n",
      "      <a href=\"http://en.wikipedia.org/wiki/Utf-8\">UTF-8</a>.  This is a departure\r\n",
      "      from previous MovieLens data sets, which used different character encodings.\r\n",
      "      If accented characters in movie titles or tag values (e.g. Misérables, Les (1995))\r\n",
      "      display incorrectly, make sure that any program reading the data, such as a \r\n",
      "      text editor, terminal, or script, is configured for UTF-8.\r\n",
      "    </p>\r\n",
      "\r\n",
      "    <h2>\r\n",
      "      User Ids\r\n",
      "    </h2>\r\n",
      "    <p>\r\n",
      "      Movielens users were selected at random for inclusion.  Their ids have been \r\n",
      "      anonymized.\r\n",
      "    </p>\r\n",
      "    <p>\r\n",
      "      Users were selected separately for inclusion \r\n",
      "      in the ratings and tags data sets, which implies that user ids may appear in \r\n",
      "      one set but not the other.\r\n",
      "    </p>\r\n",
      "    <p>\r\n",
      "      The anonymized values are consistent between the ratings and tags data files.  \r\n",
      "      That is, user id <em>n</em>, if it appears in both files, refers to the same\r\n",
      "      real MovieLens user.\r\n",
      "    </p>\r\n",
      "\r\n",
      "    <h2>\r\n",
      "      Ratings Data File Structure\r\n",
      "    </h2>\r\n",
      "    <p>\r\n",
      "      All ratings are contained in the file <code>ratings.dat</code>.  Each line of this \r\n",
      "      file represents one rating of one movie by one user, and has the following format:\r\n",
      "    </p>\r\n",
      "    <p class=\"file_line_structure\">\r\n",
      "      <code>UserID::MovieID::Rating::Timestamp</code>\r\n",
      "    </p>\r\n",
      "    <p>\r\n",
      "      The lines within this file are ordered first by UserID, then, within user, \r\n",
      "      by MovieID.\r\n",
      "    </p>\r\n",
      "    <p>\r\n",
      "      Ratings are made on a 5-star scale, with half-star increments.\r\n",
      "    </p>\r\n",
      "    <p>\r\n",
      "      <a href=\"http://en.wikipedia.org/wiki/Unix_time\">Timestamps</a> represent \r\n",
      "      seconds since midnight Coordinated Universal Time (UTC) of January 1, 1970.\r\n",
      "    </p>\r\n",
      "\r\n",
      "    <h2>\r\n",
      "      Tags Data File Structure\r\n",
      "    </h2>\r\n",
      "    <p>\r\n",
      "      All tags are contained in the file <code>tags.dat</code>.  Each line of this \r\n",
      "      file represents one tag applied to one movie by one user, and has \r\n",
      "      the following format:\r\n",
      "    </p>\r\n",
      "    <p class=\"file_line_structure\">\r\n",
      "      <code>UserID::MovieID::Tag::Timestamp</code>\r\n",
      "    </p>\r\n",
      "    <p>\r\n",
      "      The lines within this file are ordered first by UserID, then, within user, \r\n",
      "      by MovieID.\r\n",
      "    </p>\r\n",
      "    <p>\r\n",
      "      <a href=\"http://en.wikipedia.org/wiki/Tag_(metadata)\">Tags</a> are user \r\n",
      "      generated metadata about movies.  Each tag is typically a single word, or\r\n",
      "      short phrase.  The meaning, value and purpose of a particular tag is \r\n",
      "      determined by each user.\r\n",
      "    </p>\r\n",
      "    <p>\r\n",
      "      <a href=\"http://en.wikipedia.org/wiki/Unix_time\">Timestamps</a> represent \r\n",
      "      seconds since midnight Coordinated Universal Time (UTC) of January 1, 1970.\r\n",
      "    </p>\r\n",
      "\r\n",
      "    <h2>\r\n",
      "      Movies Data File Structure\r\n",
      "    </h2>\r\n",
      "    <p>\r\n",
      "      Movie information is contained in the file <code>movies.dat</code>.  \r\n",
      "      Each line of this file represents one movie, and has the following format:\r\n",
      "    </p>\r\n",
      "    <p class=\"file_line_structure\">\r\n",
      "      <code>MovieID::Title::Genres</code>\r\n",
      "    </p>\r\n",
      "    <p>\r\n",
      "      MovieID is the real MovieLens id.\r\n",
      "    </p>\r\n",
      "    <p>\r\n",
      "      Movie titles, by policy, should be entered identically to those\r\n",
      "      found in <a href=\"http://www.imdb.com/\">IMDB</a>, including year of release.\r\n",
      "      However, they are entered manually, so errors and inconsistencies may exist.\r\n",
      "    </p>\r\n",
      "    <p>\r\n",
      "      Genres are a pipe-separated list, and are selected from the following:\r\n",
      "    </p>\r\n",
      "    <ul>\r\n",
      "\t  <li>Action</li>\r\n",
      "\t  <li>Adventure</li>\r\n",
      "\t  <li>Animation</li>\r\n",
      "\t  <li>Children's</li>\r\n",
      "\t  <li>Comedy</li>\r\n",
      "\t  <li>Crime</li>\r\n",
      "\t  <li>Documentary</li>\r\n",
      "\t  <li>Drama</li>\r\n",
      "\t  <li>Fantasy</li>\r\n",
      "\t  <li>Film-Noir</li>\r\n",
      "\t  <li>Horror</li>\r\n",
      "\t  <li>Musical</li>\r\n",
      "\t  <li>Mystery</li>\r\n",
      "\t  <li>Romance</li>\r\n",
      "\t  <li>Sci-Fi</li>\r\n",
      "\t  <li>Thriller</li>\r\n",
      "\t  <li>War</li>\r\n",
      "\t  <li>Western</li>\r\n",
      "    </ul>\r\n",
      "\r\n",
      "    <h2>\r\n",
      "      Cross-Validation Subset Generation Scripts\r\n",
      "    </h2>\r\n",
      "    <p>\r\n",
      "      A Unix shell script, <code>split_ratings.sh</code>, is provided that, if desired, \r\n",
      "      can be used to split the ratings data for five-fold cross-validation\r\n",
      "      of rating predictions.  It depends on a second script, allbut.pl, which \r\n",
      "      is also included and is written in Perl.  They should run without modification\r\n",
      "      under Linux, Mac OS X, Cygwin or other Unix like systems.\r\n",
      "    </p>\r\n",
      "    <p>\r\n",
      "      Running <code>split_ratings.sh</code> will use <code>ratings.dat</code>\r\n",
      "      as input, and produce the fourteen output files described below.  Multiple\r\n",
      "      runs of the script will produce identical results.\r\n",
      "    </p>\r\n",
      "    <table style=\"width:75%\" border=\"1\">\r\n",
      "      <tr>\r\n",
      "        <th style=\"width:25%\">File Names</th>\r\n",
      "        <th>Description</th>\r\n",
      "      </tr>\r\n",
      "      <tr>\r\n",
      "        <td>\r\n",
      "          r1.train, r2.train, r3.train, r4.train, r5.train<br/>\r\n",
      "          r1.test, r2.test, r3.test, r4.test, r5.test<br/>\r\n",
      "         </td>\r\n",
      "         <td>\r\n",
      "           The data sets r1.train and r1.test through r5.train and r5.test\r\n",
      "           are 80%/20% splits of the ratings data into training and test data.\r\n",
      "           Each of r1, ..., r5 have disjoint test sets; this if for\r\n",
      "           5 fold cross validation (where you repeat your experiment\r\n",
      "           with each training and test set and average the results).\r\n",
      "        </td>\r\n",
      "      </tr>\r\n",
      "      <tr>\r\n",
      "        <td>\r\n",
      "          ra.train, rb.train<br/>\r\n",
      "          ra.test, rb.test<br/>\r\n",
      "         </td>\r\n",
      "        <td>\r\n",
      "          The data sets ra.train, ra.test, rb.train, and rb.test\r\n",
      "          split the ratings data into a training set and a test set with\r\n",
      "          exactly 10 ratings per user in the test set.  The sets\r\n",
      "          ra.test and rb.test are disjoint.\r\n",
      "         </td>\r\n",
      "      </tr>\r\n",
      "    </table>\r\n",
      "    <p style=\"text-align:right\">\r\n",
      "      <a href=\"http://validator.w3.org/check?uri=referer\">\r\n",
      "        <img style=\"border:0;width:88px;height:31px\"\r\n",
      "          src=\"http://www.w3.org/Icons/valid-xhtml10\"\r\n",
      "          alt=\"Valid XHTML 1.0 Strict\" height=\"31\" width=\"88\" />\r\n",
      "      </a>\r\n",
      "\r\n",
      "      <a href=\"http://jigsaw.w3.org/css-validator/\">\r\n",
      "        <img style=\"border:0;width:88px;height:31px\"\r\n",
      "          src=\"http://jigsaw.w3.org/css-validator/images/vcss\"\r\n",
      "          alt=\"Valid CSS!\" />\r\n",
      "      </a>\r\n",
      "    </p>\r\n",
      "  </body>\r\n",
      "</html>\r\n",
      "\r\n"
     ]
    }
   ],
   "source": [
    "!hadoop fs -cat /data/movie-ratings/ml-10M100K/README.html"
   ]
  },
  {
   "cell_type": "code",
   "execution_count": 7,
   "metadata": {},
   "outputs": [
    {
     "name": "stdout",
     "output_type": "stream",
     "text": [
      "Found 2 items\r\n",
      "drwxr-xr-x   - alvarogr ECS640U          0 2017-12-11 11:52 /data/movie-ratings/cv/10-item\r\n",
      "drwxr-xr-x   - alvarogr ECS640U          0 2017-12-11 11:53 /data/movie-ratings/cv/5-fold\r\n"
     ]
    }
   ],
   "source": [
    "!hadoop fs -ls  '/data/movie-ratings/cv'"
   ]
  },
  {
   "cell_type": "markdown",
   "metadata": {},
   "source": [
    "Review the contents of the movies.dat and ratings.dat files"
   ]
  },
  {
   "cell_type": "code",
   "execution_count": 8,
   "metadata": {},
   "outputs": [],
   "source": [
    "ratings_file = \"/data/movie-ratings/ratings.dat\"\n",
    "movies_file = \"/data/movie-ratings/movies.dat\""
   ]
  },
  {
   "cell_type": "code",
   "execution_count": 9,
   "metadata": {},
   "outputs": [],
   "source": [
    "ratings_raw = sc.textFile(ratings_file)\n",
    "movies_raw = sc.textFile(movies_file)"
   ]
  },
  {
   "cell_type": "markdown",
   "metadata": {},
   "source": [
    "Inspect the files to see what we are dealing with"
   ]
  },
  {
   "cell_type": "code",
   "execution_count": 12,
   "metadata": {},
   "outputs": [
    {
     "data": {
      "text/plain": [
       "[u'1::122::5::838985046',\n",
       " u'1::185::5::838983525',\n",
       " u'1::231::5::838983392',\n",
       " u'1::292::5::838983421',\n",
       " u'1::316::5::838983392']"
      ]
     },
     "execution_count": 12,
     "metadata": {},
     "output_type": "execute_result"
    }
   ],
   "source": [
    "ratings_raw.take(5)"
   ]
  },
  {
   "cell_type": "markdown",
   "metadata": {},
   "source": [
    "## dat files\n",
    "There is no header file\n",
    "Notice that the columns are separated by :: \n",
    "Observe also that the field is in the following format:\n",
    "user::movie::rating::timestamp"
   ]
  },
  {
   "cell_type": "code",
   "execution_count": 13,
   "metadata": {},
   "outputs": [
    {
     "data": {
      "text/plain": [
       "[u'1::Toy Story (1995)::Adventure|Animation|Children|Comedy|Fantasy',\n",
       " u'2::Jumanji (1995)::Adventure|Children|Fantasy',\n",
       " u'3::Grumpier Old Men (1995)::Comedy|Romance',\n",
       " u'4::Waiting to Exhale (1995)::Comedy|Drama|Romance',\n",
       " u'5::Father of the Bride Part II (1995)::Comedy']"
      ]
     },
     "execution_count": 13,
     "metadata": {},
     "output_type": "execute_result"
    }
   ],
   "source": [
    "movies_raw.take(5)"
   ]
  },
  {
   "cell_type": "markdown",
   "metadata": {},
   "source": [
    "There is no header file\n",
    "Notice that the columns are separated by :: Observe also that the field is in the following format\n",
    "movie::titleandyear::genre"
   ]
  },
  {
   "cell_type": "code",
   "execution_count": 17,
   "metadata": {},
   "outputs": [
    {
     "name": "stdout",
     "output_type": "stream",
     "text": [
      "There are 10681 rows in the /data/movie-ratings/movies.dat\n"
     ]
    }
   ],
   "source": [
    "print('There are {0} rows in the {1}'.format(movies_raw.count(),movies_file))"
   ]
  },
  {
   "cell_type": "code",
   "execution_count": 19,
   "metadata": {},
   "outputs": [
    {
     "name": "stdout",
     "output_type": "stream",
     "text": [
      "There are 10000054 rows in the /data/movie-ratings/ratings.dat\n"
     ]
    }
   ],
   "source": [
    "print('There are {0} rows in the {1}'.format(ratings_raw.count(), ratings_file))"
   ]
  },
  {
   "cell_type": "markdown",
   "metadata": {},
   "source": [
    "Since there are approximately 1M records, it may be faster to set the number of partitions on spark.  Since the movie file is relatively small with approximately 10K records we can hold in memory using collect"
   ]
  },
  {
   "cell_type": "code",
   "execution_count": 21,
   "metadata": {},
   "outputs": [],
   "source": [
    "numPartitions =1000"
   ]
  },
  {
   "cell_type": "code",
   "execution_count": null,
   "metadata": {},
   "outputs": [],
   "source": [
    "if (ratings_file.find('.dat')):\n",
    "\tmovies= movies_raw.map(lambda line: re.split(r'::',line))\\\n",
    "        .map(lambda line: (int(line[0]),(line[1],line[2]))).collect()\n",
    "\tratings = ratings_raw.map(lambda line: re.split(r'::',line))\\\n",
    "                        .map(lambda line: (int(line[0]),(int(line[1]),float(line[2]))))\\\n",
    "                        .partitionBy(numPartitions)\n",
    "else:\n",
    "\tratings_header = ratings_raw.take(1)[0]\n",
    "\tmovies_header = movies_raw.take(1)[0]\n",
    "\tmovies= movies_raw.filter(lambda line: line!=movies_header)\\\n",
    "                    .map(lambda line: re.split(r',',line)).map(lambda line: (int(line[1]),(line[0],line[2])))\n",
    "\tratings = ratings_raw.filter(lambda line: line!=ratings_header)\\\n",
    "                    .map(lambda line: re.split(r',',line))\\\n",
    "                    .map(lambda x: (int(line[1]),(int(line[0]),float(line[2]))))\\\n",
    "                    .partitionBy(numPartitions)\n"
   ]
  },
  {
   "cell_type": "code",
   "execution_count": null,
   "metadata": {},
   "outputs": [],
   "source": [
    "ratings.take(5)"
   ]
  },
  {
   "cell_type": "code",
   "execution_count": null,
   "metadata": {},
   "outputs": [],
   "source": [
    "RatingsDF = ratings.toDF(['item_id','userid_rating'])"
   ]
  },
  {
   "cell_type": "markdown",
   "metadata": {},
   "source": [
    "Let's check the type of RatingsDF"
   ]
  },
  {
   "cell_type": "code",
   "execution_count": null,
   "metadata": {},
   "outputs": [],
   "source": [
    "type(RatingsDF)"
   ]
  },
  {
   "cell_type": "markdown",
   "metadata": {},
   "source": [
    "The printSchema() method gives more details about the DataFrame’s schema and structure:"
   ]
  },
  {
   "cell_type": "code",
   "execution_count": null,
   "metadata": {},
   "outputs": [],
   "source": [
    "RatingsDF.printSchema()"
   ]
  },
  {
   "cell_type": "code",
   "execution_count": null,
   "metadata": {},
   "outputs": [],
   "source": [
    "RatingsDF.show(5)"
   ]
  },
  {
   "cell_type": "markdown",
   "metadata": {},
   "source": [
    "How many movies do we have in the movies file?"
   ]
  },
  {
   "cell_type": "code",
   "execution_count": null,
   "metadata": {},
   "outputs": [],
   "source": [
    "numMovies = ratings.values().map(lambda line: line[1]).distinct().count()\n",
    "print(\"number of movies: {0}\".format(numMovies))"
   ]
  },
  {
   "cell_type": "markdown",
   "metadata": {},
   "source": [
    "How many users have rated our movies?"
   ]
  },
  {
   "cell_type": "code",
   "execution_count": null,
   "metadata": {},
   "outputs": [],
   "source": [
    "numUsers = ratings.values().map(lambda line: line[0]).distinct().count()\n",
    "print(\"number of users: {0}\".format(numUsers))"
   ]
  },
  {
   "cell_type": "code",
   "execution_count": null,
   "metadata": {},
   "outputs": [],
   "source": [
    "numRatings = ratings.count()\n",
    "print(\"total number of ratings: {0}\".format(numRatings))"
   ]
  },
  {
   "cell_type": "markdown",
   "metadata": {},
   "source": [
    "Joining RDDs\n",
    "Create RDDs for the same ratings and the movies files."
   ]
  },
  {
   "cell_type": "code",
   "execution_count": null,
   "metadata": {},
   "outputs": [],
   "source": [
    "user_ratings_data = ratings.join(ratings)"
   ]
  },
  {
   "cell_type": "markdown",
   "metadata": {},
   "source": [
    "Join two dataframes and get only one 'item_id' column "
   ]
  },
  {
   "cell_type": "code",
   "execution_count": null,
   "metadata": {},
   "outputs": [],
   "source": [
    "user_ratingsDF = RatingsDF.join(RatingsDF,'item_id')"
   ]
  },
  {
   "cell_type": "code",
   "execution_count": null,
   "metadata": {},
   "outputs": [],
   "source": [
    "user_ratings_data.take(5)"
   ]
  },
  {
   "cell_type": "code",
   "execution_count": null,
   "metadata": {},
   "outputs": [],
   "source": [
    "user_ratingsDF.show(5)"
   ]
  },
  {
   "cell_type": "code",
   "execution_count": null,
   "metadata": {},
   "outputs": [],
   "source": [
    "user_ratingsDF2 = sqlContext.createDataFrame(user_ratings_data,['item_id','userid_rating'])"
   ]
  },
  {
   "cell_type": "code",
   "execution_count": null,
   "metadata": {},
   "outputs": [],
   "source": [
    "user_ratingsDF2.show(5)"
   ]
  },
  {
   "cell_type": "markdown",
   "metadata": {},
   "source": [
    "\n",
    "Remove a rating if a user gives the same value for the same movie"
   ]
  },
  {
   "cell_type": "code",
   "execution_count": null,
   "metadata": {},
   "outputs": [],
   "source": [
    "unique_joined_ratings = user_ratings_data.filter(removeDuplicates)"
   ]
  },
  {
   "cell_type": "markdown",
   "metadata": {},
   "source": [
    "Map RDDs"
   ]
  },
  {
   "cell_type": "code",
   "execution_count": null,
   "metadata": {},
   "outputs": [],
   "source": [
    "movie_pairs = unique_joined_ratings.map(itemItem).partitionBy(numPartitions)\n"
   ]
  },
  {
   "cell_type": "markdown",
   "metadata": {},
   "source": [
    "Now group all ratings together for the same movie"
   ]
  },
  {
   "cell_type": "code",
   "execution_count": null,
   "metadata": {},
   "outputs": [],
   "source": [
    "movie_pairs_ratings= movie_pairs.groupByKey()"
   ]
  },
  {
   "cell_type": "code",
   "execution_count": null,
   "metadata": {},
   "outputs": [],
   "source": [
    "algorithms=[\"JACCARD\",\"COSINE\"]"
   ]
  },
  {
   "cell_type": "code",
   "execution_count": null,
   "metadata": {},
   "outputs": [],
   "source": [
    "if algorithm == algorithms[0] :\n",
    "\titem_item_similarities = movie_pairs_ratings.mapValues(jaccard_similarity).persist()\n",
    "elif algorithm == algorithms[1]  :\n",
    "\titem_item_similarities = movie_pairs_ratings.mapValues(cosine_similarity).persist()\n",
    "else:\n",
    "\titem_item_similarities = movie_pairs_ratings.mapValues(cosine_similarity).persist()"
   ]
  },
  {
   "cell_type": "code",
   "execution_count": null,
   "metadata": {},
   "outputs": [],
   "source": [
    "threshold = float(0.97)\n",
    "topN= int(50)\n"
   ]
  },
  {
   "cell_type": "code",
   "execution_count": null,
   "metadata": {},
   "outputs": [],
   "source": [
    "item_item_sorted=item_item_similarities.sortByKey()"
   ]
  },
  {
   "cell_type": "code",
   "execution_count": null,
   "metadata": {},
   "outputs": [],
   "source": [
    "item_item_sorted.persist()\n",
    "\n",
    "# Filter for movies with this sim that are \"good\" as defined by\n",
    "# our quality thresholds above\n",
    "filteredResults = item_item_sorted.filter(lambda((item_pair,similarity_occurence)): \\\n",
    "        (item_pair[0] == movie_id or item_pair[1] == movie_id) \\\n",
    "        and similarity_occurence[0] > threshold and similarity_occurence[1] > minOccurence)\n",
    "\n",
    "if (topN==0):\n",
    "    topN=10\n",
    "\n",
    "results = filteredResults.map(lambda((x,y)): (y,x)).sortByKey(ascending = False)\n",
    "resultsTopN = results.take(topN)\n",
    "results.coalese(1).saveAsTextFile(\"movielens\")\n",
    "\n",
    "\n"
   ]
  },
  {
   "cell_type": "markdown",
   "metadata": {},
   "source": [
    "The join function combines two datasets (Key,ValueV) and (Key,ValueW) together to get (Key, (ValueV,ValueW)).  Let's join the movie and ratings file together to get meaningful recommendations"
   ]
  },
  {
   "cell_type": "code",
   "execution_count": null,
   "metadata": {},
   "outputs": [],
   "source": [
    "\n",
    "   print \"Top 10 similar movies for \" + nameDict[movieID]\n",
    "   for result in resultsTopN:\n",
    "       (sim, pair) = result\n",
    "#         Display the similarity result that isn't the movie we're looking at\n",
    "       similarMovieID = pair[0]\n",
    "       if (similarMovieID == movieID):\n",
    "           similarMovieID = pair[1]\n",
    "       print nameDict[similarMovieID] + \"\\tscore: \" + str(sim[0]) + \"\\tstrength: \" + str(sim[1])\n",
    "\t"
   ]
  },
  {
   "cell_type": "code",
   "execution_count": null,
   "metadata": {},
   "outputs": [],
   "source": [
    "sc.stop()"
   ]
  }
 ],
 "metadata": {
  "kernelspec": {
   "display_name": "Python 2",
   "language": "python",
   "name": "python2"
  },
  "language_info": {
   "codemirror_mode": {
    "name": "ipython",
    "version": 2
   },
   "file_extension": ".py",
   "mimetype": "text/x-python",
   "name": "python",
   "nbconvert_exporter": "python",
   "pygments_lexer": "ipython2",
   "version": "2.7.5"
  }
 },
 "nbformat": 4,
 "nbformat_minor": 2
}
