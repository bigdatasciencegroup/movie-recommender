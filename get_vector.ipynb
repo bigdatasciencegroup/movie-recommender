import findspark
findspark.init()

import pyspark

import re
re.compile('<title>(.*)</title>')

from pyspark import SparkConf, SparkContext
sc =  SparkContext(appName = "MovieLens11")

sc.addPyFile("matrix2.py")
import matrix
from matrix import get_vector

lines = sc.textFile("cw2second")
data = lines.map(lambda gen: re.split("[|]", gen))  
data1 = data.map(get_vector)
inmem = data1.persist()
inmem.saveAsTextFile("vector11")
