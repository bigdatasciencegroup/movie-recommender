{
 "cells": [
  {
   "cell_type": "code",
   "execution_count": 1,
   "metadata": {
    "scrolled": false
   },
   "outputs": [],
   "source": [
    "import findspark\n",
    "findspark.init()\n",
    "\n",
    "import pyspark\n",
    "\n",
    "import re\n",
    "re.compile('<title>(.*)</title>')\n",
    "\n",
    "from pyspark import SparkConf, SparkContext\n",
    "sc =  SparkContext(appName = \"MovieLens11\")\n",
    "\n",
    "sc.addPyFile(\"matrix2.py\")\n",
    "import matrix2\n",
    "from matrix2 import get_vector\n",
    "\n",
    "lines = sc.textFile(\"cw2second\")\n",
    "data = lines.map(lambda gen: re.split(\"[|]\", gen))  \n",
    "data1 = data.map(get_vector)\n",
    "inmem = data1.persist()\n",
    "inmem.saveAsTextFile(\"vector11\")\n",
    "\n",
    "\n"
   ]
  },
  {
   "cell_type": "code",
   "execution_count": null,
   "metadata": {},
   "outputs": [],
   "source": []
  },
  {
   "cell_type": "code",
   "execution_count": null,
   "metadata": {},
   "outputs": [],
   "source": []
  },
  {
   "cell_type": "code",
   "execution_count": null,
   "metadata": {},
   "outputs": [],
   "source": []
  }
 ],
 "metadata": {
  "kernelspec": {
   "display_name": "Python 2",
   "language": "python",
   "name": "python2"
  },
  "language_info": {
   "codemirror_mode": {
    "name": "ipython",
    "version": 2
   },
   "file_extension": ".py",
   "mimetype": "text/x-python",
   "name": "python",
   "nbconvert_exporter": "python",
   "pygments_lexer": "ipython2",
   "version": "2.7.5"
  }
 },
 "nbformat": 4,
 "nbformat_minor": 2
}
