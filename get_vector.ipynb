{
 "cells": [
  {
   "cell_type": "code",
   "execution_count": 1,
   "metadata": {
    "scrolled": false
   },
   "outputs": [
    {
     "ename": "SyntaxError",
     "evalue": "invalid syntax (matrix.py, line 9)",
     "output_type": "error",
     "traceback": [
      "\u001b[0;36m  File \u001b[0;32m\"/tmp/spark-e3be033e-4016-4a1e-8993-6caa9463f99b/userFiles-2e3e7554-dbc6-4fdd-9d29-881d2ea07ab1/matrix.py\"\u001b[0;36m, line \u001b[0;32m9\u001b[0m\n\u001b[0;31m    rsplit = re.split(r '|', str)\u001b[0m\n\u001b[0m                          ^\u001b[0m\n\u001b[0;31mSyntaxError\u001b[0m\u001b[0;31m:\u001b[0m invalid syntax\n"
     ]
    }
   ],
   "source": [
    "import findspark\n",
    "findspark.init()\n",
    "\n",
    "import pyspark\n",
    "\n",
    "import re\n",
    "re.compile('<title>(.*)</title>')\n",
    "\n",
    "from pyspark import SparkConf, SparkContext\n",
    "sc = pyspark.SparkContext(appName = \"MovieLens\")\n",
    "\n",
    "sc.addPyFile(\"matrix.py\")\n",
    "import matrix\n",
    "\n",
    "lines = sc.textFile(\"cw2second\")\n",
    "data = lines.map(lambda gen: re.split(r'::', gen))  \n",
    "data1 = data.map(matrix.get_vector)\n",
    "inmem = data1.persist()\n",
    "inmem.saveAsTextFile(\"vector112\")\n",
    "\n",
    "sc.stop()\n"
   ]
  },
  {
   "cell_type": "code",
   "execution_count": null,
   "metadata": {},
   "outputs": [],
   "source": []
  },
  {
   "cell_type": "code",
   "execution_count": null,
   "metadata": {},
   "outputs": [],
   "source": []
  },
  {
   "cell_type": "code",
   "execution_count": null,
   "metadata": {},
   "outputs": [],
   "source": []
  }
 ],
 "metadata": {
  "kernelspec": {
   "display_name": "Python 2",
   "language": "python",
   "name": "python2"
  },
  "language_info": {
   "codemirror_mode": {
    "name": "ipython",
    "version": 2
   },
   "file_extension": ".py",
   "mimetype": "text/x-python",
   "name": "python",
   "nbconvert_exporter": "python",
   "pygments_lexer": "ipython2",
   "version": "2.7.5"
  }
 },
 "nbformat": 4,
 "nbformat_minor": 2
}
