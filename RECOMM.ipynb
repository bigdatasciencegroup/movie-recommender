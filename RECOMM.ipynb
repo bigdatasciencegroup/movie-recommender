{
 "cells": [
  {
   "cell_type": "code",
   "execution_count": 1,
   "metadata": {},
   "outputs": [
    {
     "ename": "SyntaxError",
     "evalue": "invalid syntax (<ipython-input-1-49b91dc04afa>, line 45)",
     "output_type": "error",
     "traceback": [
      "\u001b[0;36m  File \u001b[0;32m\"<ipython-input-1-49b91dc04afa>\"\u001b[0;36m, line \u001b[0;32m45\u001b[0m\n\u001b[0;31m    movies_data = sc.textFile(/data/movie-ratings/movies.dat)\u001b[0m\n\u001b[0m                              ^\u001b[0m\n\u001b[0;31mSyntaxError\u001b[0m\u001b[0;31m:\u001b[0m invalid syntax\n"
     ]
    }
   ],
   "source": [
    "import findspark\n",
    "findspark.init()\n",
    "\n",
    "# import pyspark\n",
    "import sys\n",
    "import re\n",
    "import random\n",
    "from similaritycos import cosine_similarity\n",
    "#  jaccard_similarity, \n",
    "from pyspark import SparkConf, SparkContext\n",
    "\n",
    "def parseVector(line):\n",
    "    # line.split(\"::\")\n",
    "    return line.split(r'::')\n",
    "\n",
    "def parseRatings(line):\n",
    "    # line.split(\"::\")moviePairSimilarities.saveAsTextFile(\"movie-sims\")\n",
    "    fields= parseVector(line)\n",
    "    return int(fields[0]),(int(fields[1]),float(fields[2]))\n",
    "\n",
    "def parseMovies(line,movieDict):\n",
    "    fields= parseVector(line)\n",
    "    movieDict[int(fields[0])] = fields[1]\n",
    "    return fields[0],(fields[1],fields[2])\n",
    "\n",
    "def getSampleInteractions(user, film, n):\n",
    "    if len(film) > n:\n",
    "        return user, random.sample(film,n)\n",
    "    else:\n",
    "        return user, film\n",
    "    return\n",
    "\n",
    "def uniqueFilter((userid, ratings)):\n",
    "    (item1, value1) = ratings[0]\n",
    "    (item2, value2) = ratings[1]\n",
    "    return item1 < item2\n",
    "\n",
    "def itemitem((item,values)):\n",
    "    (itemA, valueA) = values[0]\n",
    "    (itemB, valueB) = values[1]\n",
    "    return ((itemA, itemB), (valueA, valueB))\n",
    "\n",
    "sc = SparkContext(appName = \"MovieLens\")\n",
    "\n",
    "movies_data = sc.textFile(/data/movie-ratings/movies.dat)\n",
    "movieDict={}\n",
    "movies= movies_data.map(lambda line: parseMovies(line,movieDict))\n",
    "\n",
    "ratings_data = sc.textFile(data/movie-ratings/ratings.dat)\n",
    "\n",
    "ratings = ratings_data.map(parseRatings)\n",
    "\n",
    "    \n",
    "user_ratings_data= ratings.join(ratings)\n",
    "uniqueJoin = user_ratings_data.filter(uniqueFilter)\n",
    "\n",
    "moviePairs = uniqueJoin.map(itemitem)\n",
    "    \n",
    "moviePairRatings = moviePairs.groupByKey()\n",
    "\n",
    "movie_movie_Similarities = moviePairRatings.mapValues(cosine_similarity).cache()\n",
    "movie_movie_Similarities.sortByKey()\n",
    "movie_movie_Similarities.saveAsTextFile(\"movie-sims1\")"
   ]
  },
  {
   "cell_type": "code",
   "execution_count": null,
   "metadata": {},
   "outputs": [],
   "source": [
    "if (len(sys.argv)> 1):\n",
    "    scoreThreshold = 0.97\n",
    "    coOccurenceTHreshold = 50"
   ]
  },
  {
   "cell_type": "code",
   "execution_count": null,
   "metadata": {},
   "outputs": [],
   "source": [
    "movieID = int(sys.argv[1])\n",
    "filteredResults = movie_movie_Similarities.filter(lambda((pair,sim)): \\ (pair[0] == movieID or pair[1] == movieID) \\ and sim[0] > scoreThreshold and sim[1] > coOccurenceThreshold)"
   ]
  },
  {
   "cell_type": "code",
   "execution_count": null,
   "metadata": {},
   "outputs": [],
   "source": [
    "results = filteredResults.map(lambda((pair,sim)): (sim,\n",
    "pair)).sortByKey(ascending = False).take(10)"
   ]
  }
 ],
 "metadata": {
  "kernelspec": {
   "display_name": "Python 2",
   "language": "python",
   "name": "python2"
  },
  "language_info": {
   "codemirror_mode": {
    "name": "ipython",
    "version": 2
   },
   "file_extension": ".py",
   "mimetype": "text/x-python",
   "name": "python",
   "nbconvert_exporter": "python",
   "pygments_lexer": "ipython2",
   "version": "2.7.5"
  }
 },
 "nbformat": 4,
 "nbformat_minor": 2
}
