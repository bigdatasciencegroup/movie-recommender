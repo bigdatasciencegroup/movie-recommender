{
 "cells": [
  {
   "cell_type": "code",
   "execution_count": 1,
   "metadata": {},
   "outputs": [
    {
     "ename": "TypeError",
     "evalue": "unbound method createDataFrame() must be called with HiveContext instance as first argument (got PipelinedRDD instance instead)",
     "output_type": "error",
     "traceback": [
      "\u001b[0;31m---------------------------------------------------------------------------\u001b[0m",
      "\u001b[0;31mTypeError\u001b[0m                                 Traceback (most recent call last)",
      "\u001b[0;32m<ipython-input-1-5811b5193f36>\u001b[0m in \u001b[0;36m<module>\u001b[0;34m()\u001b[0m\n\u001b[1;32m     19\u001b[0m \u001b[0msc\u001b[0m \u001b[0;34m=\u001b[0m \u001b[0mSparkContext\u001b[0m\u001b[0;34m(\u001b[0m\u001b[0mappName\u001b[0m \u001b[0;34m=\u001b[0m \u001b[0;34m\"MovieLens\"\u001b[0m\u001b[0;34m)\u001b[0m\u001b[0;34m\u001b[0m\u001b[0m\n\u001b[1;32m     20\u001b[0m \u001b[0mratings_data\u001b[0m \u001b[0;34m=\u001b[0m \u001b[0msc\u001b[0m\u001b[0;34m.\u001b[0m\u001b[0mtextFile\u001b[0m\u001b[0;34m(\u001b[0m\u001b[0mratings_file\u001b[0m\u001b[0;34m)\u001b[0m\u001b[0;34m.\u001b[0m\u001b[0mmap\u001b[0m\u001b[0;34m(\u001b[0m\u001b[0;32mlambda\u001b[0m \u001b[0mline\u001b[0m\u001b[0;34m:\u001b[0m \u001b[0mre\u001b[0m\u001b[0;34m.\u001b[0m\u001b[0msplit\u001b[0m\u001b[0;34m(\u001b[0m\u001b[0;34mr'::'\u001b[0m\u001b[0;34m,\u001b[0m \u001b[0mline\u001b[0m\u001b[0;34m)\u001b[0m\u001b[0;34m)\u001b[0m\u001b[0;34m\u001b[0m\u001b[0m\n\u001b[0;32m---> 21\u001b[0;31m \u001b[0mratings\u001b[0m \u001b[0;34m=\u001b[0m  \u001b[0msqlContext\u001b[0m\u001b[0;34m.\u001b[0m\u001b[0mcreateDataFrame\u001b[0m\u001b[0;34m(\u001b[0m\u001b[0mratings_data\u001b[0m\u001b[0;34m,\u001b[0m\u001b[0mr_cols\u001b[0m\u001b[0;34m)\u001b[0m\u001b[0;34m\u001b[0m\u001b[0m\n\u001b[0m\u001b[1;32m     22\u001b[0m \u001b[0mratings\u001b[0m\u001b[0;34m.\u001b[0m\u001b[0mshow\u001b[0m\u001b[0;34m(\u001b[0m\u001b[0;36m10\u001b[0m\u001b[0;34m)\u001b[0m\u001b[0;34m\u001b[0m\u001b[0m\n\u001b[1;32m     23\u001b[0m \u001b[0;34m\u001b[0m\u001b[0m\n",
      "\u001b[0;31mTypeError\u001b[0m: unbound method createDataFrame() must be called with HiveContext instance as first argument (got PipelinedRDD instance instead)"
     ]
    }
   ],
   "source": [
    "import findspark\n",
    "findspark.init()\n",
    "\n",
    "import pyspark\n",
    "import sys\n",
    "import re\n",
    "\n",
    "from pyspark import SparkConf, SparkContext\n",
    "from pyspark.sql import HiveContext as sqlContext\n",
    "\n",
    "import numpy as np \n",
    "import pandas as pd \n",
    "\n",
    "\n",
    "ratings_file = '/data/movie-ratings/ratings.dat'\n",
    "movies_file = '/data/movie-ratings/movies.dat'\n",
    "\n",
    "r_cols = ['user_id', 'movie_id', 'rating', 'timestamp']\n",
    "sc = SparkContext(appName = \"MovieLens\")\n",
    "ratings_data = sc.textFile(ratings_file).map(lambda line: re.split(r'::', line))\n",
    "ratings =  sqlContext.createDataFrame(ratings_data,r_cols)\n",
    "ratings.show(10)\n",
    "\n",
    "# ratings2 = pd.read_csv(ratings_file, sep='::', names = r_cols, usecols=range(4))\n",
    "\n",
    "# ratings = pd.read_csv(\"/homes/sc325/bigdata/ml-latest-small/ratings.csratings_data = sc.textFile(ratings_file,lambda line: line.split(r'::'))v\", sep=',', names = r_cols, usecols=range(4))\n",
    "\n",
    "m_cols = ['movie_id', 'title', 'genre']\n",
    "movies_data = sc.textFile(movies_file,lambda line: line.split(r'::'))\n",
    "movies =  sqlContext.createDataFrame(movies_data,m_cols)\n",
    " #todo\n",
    "\n",
    "# df = pd.merge(ratings, movies)\n",
    "df = pd.merge(ratings, movies)\n",
    "m_cols\n",
    "\n",
    "# drop repeated header\n",
    "df.drop(df.index[0],inplace=True)\n",
    "\n",
    "df['rating'] = df['rating'].astype(float)\n",
    "df['movie_id'] = df['movie_id'].astype(int)\n",
    "df['user_id'] = df['user_id'].astype(int)\n",
    "\n",
    "df.set_index(df['user_id'])"
   ]
  },
  {
   "cell_type": "code",
   "execution_count": null,
   "metadata": {},
   "outputs": [],
   "source": [
    "ratings_matrix = df.pivot_table(rows=['user_id'],cols=['movie_id'],values='rating')\n",
    "ratings_matrix.fillna( 0, inplace = True )\n",
    "ratings_matrix.head(15)\n",
    "print(df.loc[df['user_id'] == 4])\n"
   ]
  },
  {
   "cell_type": "raw",
   "metadata": {},
   "source": []
  }
 ],
 "metadata": {
  "kernelspec": {
   "display_name": "Python 2",
   "language": "python",
   "name": "python2"
  },
  "language_info": {
   "codemirror_mode": {
    "name": "ipython",
    "version": 2
   },
   "file_extension": ".py",
   "mimetype": "text/x-python",
   "name": "python",
   "nbconvert_exporter": "python",
   "pygments_lexer": "ipython2",
   "version": "2.7.5"
  }
 },
 "nbformat": 4,
 "nbformat_minor": 2
}
