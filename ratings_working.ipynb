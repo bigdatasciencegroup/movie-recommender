{
 "cells": [
  {
   "cell_type": "code",
   "execution_count": 1,
   "metadata": {},
   "outputs": [],
   "source": [
    "import findspark\n",
    "findspark.init()\n",
    "\n",
    "import pyspark\n",
    "\n",
    "import re\n",
    "\n",
    "from pyspark import SparkConf, SparkContext\n",
    "sc = pyspark.SparkContext(appName = \"MovieLens\")\n",
    "\n",
    "lines = sc.textFile(\"/data/movie-ratings/movies.dat\")\n",
    "data = lines.map(lambda gen: re.split(r'::', gen))  \n",
    "data1 = data.map(lambda x:x[2])\n",
    "inmem = data1.persist()\n",
    "inmem.saveAsTextFile(\"cw2\")\n",
    "\n",
    "sc.stop()\n",
    "\n"
   ]
  },
  {
   "cell_type": "code",
   "execution_count": null,
   "metadata": {},
   "outputs": [],
   "source": []
  }
 ],
 "metadata": {
  "kernelspec": {
   "display_name": "Python 2",
   "language": "python",
   "name": "python2"
  },
  "language_info": {
   "codemirror_mode": {
    "name": "ipython",
    "version": 2
   },
   "file_extension": ".py",
   "mimetype": "text/x-python",
   "name": "python",
   "nbconvert_exporter": "python",
   "pygments_lexer": "ipython2",
   "version": "2.7.5"
  }
 },
 "nbformat": 4,
 "nbformat_minor": 2
}
