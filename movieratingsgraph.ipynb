{
 "cells": [
  {
   "cell_type": "code",
   "execution_count": 2,
   "metadata": {},
   "outputs": [
    {
     "data": {
      "image/png": "[encoded data removed]",
      "text/plain": [
       "<matplotlib.figure.Figure at 0x4fb3510>"
      ]
     },
     "metadata": {},
     "output_type": "display_data"
    }
   ],
   "source": [
    "import findspark\n",
    "findspark.init()\n",
    "\n",
    "import pyspark\n",
    "import sys\n",
    "import re\n",
    "import random\n",
    "import pandas as pd\n",
    "\n",
    "from pyspark import SparkConf, SparkContext\n",
    "%matplotlib inline\n",
    "import matplotlib.pyplot as plt\n",
    "import re\n",
    "\n",
    "\n",
    "sc=SparkContext(appName = \"MovieRatingGraph2\")\n",
    "lines = sc.textFile(\"/data/movie-ratings/ratings.dat\")\n",
    "data = lines.map(lambda x: re.split(r'::', x)) \n",
    "ratings = data.map(lambda x:float(x[2]))\n",
    "users =ratings.map(lambda x: (x,1)) \n",
    "users_grouped = users.reduceByKey(lambda a,b: (a+b)) \n",
    "\n",
    "datasorted=users_grouped.sortByKey(ascending=True)\n",
    "\n",
    "plt.title(\"Count per rating\\n\")\n",
    "plt.xlabel(\"Rating\")\n",
    "plt.ylabel(\"Count\")\n",
    "plt.hist(ratings.take(ratings.count()))\n",
    "\n",
    "#configure  X axes\n",
    "plt.xlim(0,5)\n",
    "plt.xticks([0,0.5,1,1.5,2,2.5,3,3.5,4,4.5,5])\n",
    "\n",
    "\n",
    "plt.show()\n",
    "\n",
    "sc.stop()\n",
    "\n",
    "# plt.barh(datay.take(5), width=5, align='center', alpha=0.4)\n",
    "# plt.show()\n",
    "# # plt.barh(datay, datax, width=0.35, color='#d62728')\n",
    "\n",
    "\n",
    "#plt.bar(datax, datay, align='center')\n",
    "#plt.xlabel('Rating')\n",
    "#ply.ylabel('Frequency')\n",
    "#plt.show()"
   ]
  },
  {
   "cell_type": "code",
   "execution_count": null,
   "metadata": {},
   "outputs": [],
   "source": []
  },
  {
   "cell_type": "code",
   "execution_count": null,
   "metadata": {},
   "outputs": [],
   "source": []
  },
  {
   "cell_type": "code",
   "execution_count": null,
   "metadata": {},
   "outputs": [],
   "source": []
  }
 ],
 "metadata": {
  "kernelspec": {
   "display_name": "Python 2",
   "language": "python",
   "name": "python2"
  },
  "language_info": {
   "codemirror_mode": {
    "name": "ipython",
    "version": 2
   },
   "file_extension": ".py",
   "mimetype": "text/x-python",
   "name": "python",
   "nbconvert_exporter": "python",
   "pygments_lexer": "ipython2",
   "version": "2.7.5"
  }
 },
 "nbformat": 4,
 "nbformat_minor": 2
}
