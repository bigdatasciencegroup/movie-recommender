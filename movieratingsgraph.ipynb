{
 "cells": [
  {
   "cell_type": "code",
   "execution_count": 1,
   "metadata": {},
   "outputs": [
    {
     "name": "stdout",
     "output_type": "stream",
     "text": [
      "+-------+-------+\n",
      "|Ratings|  Count|\n",
      "+-------+-------+\n",
      "|    0.5|  94988|\n",
      "|    1.0| 384180|\n",
      "|    1.5| 118278|\n",
      "|    2.0| 790306|\n",
      "|    2.5| 370178|\n",
      "|    3.0|2356676|\n",
      "|    3.5| 879764|\n",
      "|    4.0|2875850|\n",
      "|    4.5| 585022|\n",
      "|    5.0|1544812|\n",
      "+-------+-------+\n",
      "\n"
     ]
    },
    {
     "data": {
      "image/png": "[encoded data removed]",
      "text/plain": [
       "<matplotlib.figure.Figure at 0x4dcf7d0>"
      ]
     },
     "metadata": {},
     "output_type": "display_data"
    },
    {
     "data": {
      "image/png": "[encoded data removed]",
      "text/plain": [
       "<matplotlib.figure.Figure at 0x4b2c450>"
      ]
     },
     "metadata": {},
     "output_type": "display_data"
    }
   ],
   "source": [
    "import findspark\n",
    "findspark.init()\n",
    "\n",
    "import pyspark\n",
    "import sys\n",
    "import re\n",
    "import random\n",
    "import pandas as pd\n",
    "import matplotlib\n",
    "\n",
    "\n",
    "from pyspark import SparkConf, SparkContext\n",
    "%matplotlib inline\n",
    "import matplotlib.pyplot as plt\n",
    "import re\n",
    "\n",
    "from pyspark.sql import SQLContext\n",
    "from pyspark import sql\n",
    "\n",
    "sc=SparkContext(appName = \"MovieRatingGraph2\")\n",
    "lines = sc.textFile(\"/data/movie-ratings/ratings.dat\")\n",
    "data = lines.map(lambda x: re.split(r'::', x)) \n",
    "ratings = data.map(lambda x:float(x[2]))\n",
    "users =ratings.map(lambda x: (x,1)) \n",
    "users_grouped = users.reduceByKey(lambda a,b: (a+b)) \n",
    "\n",
    "datasorted=users_grouped.sortByKey(ascending=True)\n",
    "\n",
    "usersgroupedX=datasorted.map(lambda x:(x[0]))\n",
    "usersgroupedY=datasorted.map(lambda x:(x[1]))\n",
    "\n",
    "\n",
    "\n",
    "\n",
    "sqlContext = sql.SQLContext(sc)\n",
    "df = sqlContext.createDataFrame(datasorted, [\"Ratings\",\"Count\"] )\n",
    "df.show()\n",
    "\n",
    "width =0.5\n",
    "\n",
    "\n",
    "plt.bar(usersgroupedX.take(usersgroupedX.count()), usersgroupedY.take(usersgroupedY.count()), width=width)\n",
    "\n",
    "#plt.style.use('ggplot')\n",
    "\n",
    "#df.plot.bar();\n",
    "\n",
    "#ax=df[['Ratings','Count']].plot( kind='bar')\n",
    "#plt.title(\"Count per rating\\n\")\n",
    "#plt.xlabel(\"Rating\")\n",
    "#plt.ylabel(\"Count\")\n",
    "#plt.hist(rdd_data.take(rdd_data.count()), align='mid', rwidth=0.9, bins=10)\n",
    "\n",
    "#configure  X axes\n",
    "plt.xlim(0,5.5)\n",
    "plt.xticks([0.5,1,1.5,2,2.5,3,3.5,4,4.5,5])\n",
    "plt.title(\"Count per rating\\n\")\n",
    "plt.xlabel(\"Rating\")\n",
    "plt.ylabel(\"Count\")\n",
    "\n",
    "plt.show()\n",
    "\n",
    "\n",
    "plt.title(\"Count per rating\\n\")\n",
    "plt.xlabel(\"Rating\")\n",
    "plt.ylabel(\"Count\")\n",
    "\n",
    "plt.scatter(usersgroupedX.take(ratings.count()), usersgroupedY.take(ratings.count()))\n",
    "plt.show()\n",
    "\n",
    "sc.stop()\n",
    "\n",
    "# plt.barh(datay.take(5), width=5, align='center', alpha=0.4)\n",
    "# plt.show()\n",
    "# # plt.barh(datay, datax, width=0.35, color='#d62728').plot\n",
    "\n",
    "\n",
    "#plt.bar(datax, datay, align='center')\n",
    "#plt.xlabel('Rating')\n",
    "#ply.ylabel('Frequency')\n",
    "#plt.show()"
   ]
  },
  {
   "cell_type": "code",
   "execution_count": null,
   "metadata": {},
   "outputs": [],
   "source": []
  },
  {
   "cell_type": "code",
   "execution_count": null,
   "metadata": {},
   "outputs": [],
   "source": []
  },
  {
   "cell_type": "code",
   "execution_count": null,
   "metadata": {},
   "outputs": [],
   "source": []
  }
 ],
 "metadata": {
  "kernelspec": {
   "display_name": "Python 2",
   "language": "python",
   "name": "python2"
  },
  "language_info": {
   "codemirror_mode": {
    "name": "ipython",
    "version": 2
   },
   "file_extension": ".py",
   "mimetype": "text/x-python",
   "name": "python",
   "nbconvert_exporter": "python",
   "pygments_lexer": "ipython2",
   "version": "2.7.5"
  }
 },
 "nbformat": 4,
 "nbformat_minor": 2
}
