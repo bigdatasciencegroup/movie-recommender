{
 "cells": [
  {
   "cell_type": "code",
   "execution_count": 1,
   "metadata": {},
   "outputs": [
    {
     "data": {
      "text/plain": [
       "[(u'Mystery', 509),\n",
       " (u'Romance', 1685),\n",
       " (u'Horror', 1013),\n",
       " (u'Film-Noir', 148),\n",
       " (u'Drama', 5339),\n",
       " (u'Action', 1473),\n",
       " (u'Documentary', 482),\n",
       " (u'Thriller', 1706),\n",
       " (u'Sci-Fi', 754),\n",
       " (u'Musical', 436),\n",
       " (u'Crime', 1118),\n",
       " (u'Fantasy', 543),\n",
       " (u'Western', 275),\n",
       " (u'Animation', 286),\n",
       " (u'IMAX', 29),\n",
       " (u'Children', 528),\n",
       " (u'(no genres listed)', 1),\n",
       " (u'Comedy', 3703),\n",
       " (u'War', 511),\n",
       " (u'Adventure', 1025)]"
      ]
     },
     "execution_count": 1,
     "metadata": {},
     "output_type": "execute_result"
    }
   ],
   "source": [
    "import findspark\n",
    "findspark.init()\n",
    "\n",
    "import pyspark\n",
    "\n",
    "import re\n",
    "\n",
    "from pyspark import SparkConf, SparkContext\n",
    "sc = pyspark.SparkContext(appName = \"MovieLens\")\n",
    "\n",
    "lines = sc.textFile(\"cw2second\")\n",
    "data = lines.flatMap(lambda gen: re.split(\"[|]\", gen))\n",
    "data1 = data.map(lambda genre: (genre,1))\n",
    "data2 = data1.reduceByKey(lambda a,b: (a+b))\n",
    "data2.collect()"
   ]
  },
  {
   "cell_type": "code",
   "execution_count": null,
   "metadata": {},
   "outputs": [],
   "source": []
  }
 ],
 "metadata": {
  "kernelspec": {
   "display_name": "Python 2",
   "language": "python",
   "name": "python2"
  },
  "language_info": {
   "codemirror_mode": {
    "name": "ipython",
    "version": 2
   },
   "file_extension": ".py",
   "mimetype": "text/x-python",
   "name": "python",
   "nbconvert_exporter": "python",
   "pygments_lexer": "ipython2",
   "version": "2.7.5"
  }
 },
 "nbformat": 4,
 "nbformat_minor": 2
}
