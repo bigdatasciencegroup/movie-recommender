{
 "cells": [
  {
   "cell_type": "code",
   "execution_count": 1,
   "metadata": {},
   "outputs": [
    {
     "name": "stdout",
     "output_type": "stream",
     "text": [
      "+-------+--------+------+---------+\n",
      "|user_id|movie_id|rating|timestamp|\n",
      "+-------+--------+------+---------+\n",
      "|      1|     122|     5|838985046|\n",
      "|      1|     185|     5|838983525|\n",
      "|      1|     231|     5|838983392|\n",
      "|      1|     292|     5|838983421|\n",
      "|      1|     316|     5|838983392|\n",
      "|      1|     329|     5|838983392|\n",
      "|      1|     355|     5|838984474|\n",
      "|      1|     356|     5|838983653|\n",
      "|      1|     362|     5|838984885|\n",
      "|      1|     364|     5|838983707|\n",
      "+-------+--------+------+---------+\n",
      "only showing top 10 rows\n",
      "\n",
      "+--------+--------------------+--------------------+\n",
      "|movie_id|               title|               genre|\n",
      "+--------+--------------------+--------------------+\n",
      "|       1|    Toy Story (1995)|Adventure|Animati...|\n",
      "|       2|      Jumanji (1995)|Adventure|Childre...|\n",
      "|       3|Grumpier Old Men ...|      Comedy|Romance|\n",
      "|       4|Waiting to Exhale...|Comedy|Drama|Romance|\n",
      "|       5|Father of the Bri...|              Comedy|\n",
      "|       6|         Heat (1995)|Action|Crime|Thri...|\n",
      "|       7|      Sabrina (1995)|      Comedy|Romance|\n",
      "|       8| Tom and Huck (1995)|  Adventure|Children|\n",
      "|       9| Sudden Death (1995)|              Action|\n",
      "|      10|    GoldenEye (1995)|Action|Adventure|...|\n",
      "+--------+--------------------+--------------------+\n",
      "only showing top 10 rows\n",
      "\n",
      "+-------+--------+------+----------+--------------------+------+\n",
      "|user_id|movie_id|rating| timestamp|               title| genre|\n",
      "+-------+--------+------+----------+--------------------+------+\n",
      "|  38511|    1098|     1| 845975821|Search for One-ey...|Comedy|\n",
      "|  38790|    1098|     3|1040540711|Search for One-ey...|Comedy|\n",
      "|  41419|    1098|     2| 853695192|Search for One-ey...|Comedy|\n",
      "|  41857|    1098|     3| 896636843|Search for One-ey...|Comedy|\n",
      "|  41883|    1098|     3| 865762499|Search for One-ey...|Comedy|\n",
      "|  42465|    1098|     5| 897246280|Search for One-ey...|Comedy|\n",
      "|  42791|    1098|   1.5|1105593562|Search for One-ey...|Comedy|\n",
      "|  44076|    1098|   4.5|1107692831|Search for One-ey...|Comedy|\n",
      "|  44885|    1098|     4| 945118576|Search for One-ey...|Comedy|\n",
      "|  52005|    1098|     4|1043958057|Search for One-ey...|Comedy|\n",
      "+-------+--------+------+----------+--------------------+------+\n",
      "only showing top 10 rows\n",
      "\n"
     ]
    }
   ],
   "source": [
    "import findspark\n",
    "findspark.init()\n",
    "\n",
    "import pyspark\n",
    "import sys\n",
    "import re\n",
    "\n",
    "from pyspark import SparkConf, SparkContext, sql\n",
    "#from pyspark.sql import SQLContext as sqlContext\n",
    "\n",
    "import numpy as np \n",
    "import pandas as pd \n",
    "\n",
    "\n",
    "ratings_file = '/data/movie-ratings/ratings.dat'\n",
    "movies_file = '/data/movie-ratings/movies.dat'\n",
    "\n",
    "\n",
    "sc = SparkContext(appName = \"MovieLens\")\n",
    "\n",
    "ratings = sc.textFile(ratings_file)\n",
    "sqlContext = sql.SQLContext(sc)\n",
    "ratings_data=ratings.map(lambda line: re.split(r'::', line))\n",
    "#r_cols = ['user_id', 'movie_id', 'rating', 'timestamp']\n",
    "\n",
    "ratings2 =  sqlContext.createDataFrame(ratings_data,['user_id', 'movie_id', 'rating', 'timestamp'])\n",
    "ratings2.show(10)\n",
    "\n",
    "# ratings2 = pd.read_csv(ratings_file, sep='::', names = r_cols, usecols=range(4))\n",
    "\n",
    "# ratings = pd.read_csv(\"/homes/sc325/bigdata/ml-latest-small/ratings.csratings_data = sc.textFile(ratings_file,lambda line: line.split(r'::'))v\", sep=',', names = r_cols, usecols=range(4))\n",
    "\n",
    "\n",
    "movies = sc.textFile(movies_file)\n",
    "sqlContext=sql.SQLContext(sc)\n",
    "\n",
    "movies_data=movies.map(lambda line: re.split(r'::', line))\n",
    "#r_cols = ['user_id', 'movie_id', 'rating', 'timestamp']\n",
    "\n",
    "movies2 =  sqlContext.createDataFrame(movies_data, ['movie_id', 'title', 'genre'])\n",
    "movies2.show(10)\n",
    " #todo\n",
    "\n",
    "#Analysis Piece #1 - Joining all three datasets together\n",
    "newdf = ratings2.join(movies2, ratings2['movie_id']==movies2['movie_id'],'inner').drop(movies2['movie_id'])\n",
    "newdf.show(10)\n",
    "#now joing the new a_join object to moviedata dataframe object\n",
    "#movie_lens_join = a_join.join(py_movies, a_join['movie_id']==py_movies['movie_id'], 'inner')\\\n",
    "#.drop(a_join['movie_id'])\n",
    "\n",
    "\n",
    "newdf = ratings2.join(movies2, ratings2['movie_id']==movies2['movie_id'], 'inner')\n",
    "\n",
    "\n",
    "\n",
    "\n",
    "#newdf['rating'] = newdf['rating'].astype(float)\n",
    "#newdf['movie_id'] = newdf['movie_id'].astype(int)\n",
    "#newdf['user_id'] = newdf['user_id'].astype(int)\n",
    "\n"
   ]
  },
  {
   "cell_type": "code",
   "execution_count": 2,
   "metadata": {},
   "outputs": [
    {
     "ename": "AttributeError",
     "evalue": "'DataFrame' object has no attribute 'pivot_table'",
     "output_type": "error",
     "traceback": [
      "\u001b[0;31m---------------------------------------------------------------------------\u001b[0m",
      "\u001b[0;31mAttributeError\u001b[0m                            Traceback (most recent call last)",
      "\u001b[0;32m<ipython-input-2-f422b61179e5>\u001b[0m in \u001b[0;36m<module>\u001b[0;34m()\u001b[0m\n\u001b[0;32m----> 1\u001b[0;31m \u001b[0mratings_matrix\u001b[0m \u001b[0;34m=\u001b[0m \u001b[0mnewdf\u001b[0m\u001b[0;34m.\u001b[0m\u001b[0mpivot_table\u001b[0m\u001b[0;34m(\u001b[0m\u001b[0mrows\u001b[0m\u001b[0;34m=\u001b[0m\u001b[0;34m[\u001b[0m\u001b[0;34m'user_id'\u001b[0m\u001b[0;34m]\u001b[0m\u001b[0;34m,\u001b[0m\u001b[0mcols\u001b[0m\u001b[0;34m=\u001b[0m\u001b[0;34m[\u001b[0m\u001b[0;34m'movie_id'\u001b[0m\u001b[0;34m]\u001b[0m\u001b[0;34m,\u001b[0m\u001b[0mvalues\u001b[0m\u001b[0;34m=\u001b[0m\u001b[0;34m'rating'\u001b[0m\u001b[0;34m)\u001b[0m\u001b[0;34m\u001b[0m\u001b[0m\n\u001b[0m\u001b[1;32m      2\u001b[0m \u001b[0mratings_matrix\u001b[0m\u001b[0;34m.\u001b[0m\u001b[0mfillna\u001b[0m\u001b[0;34m(\u001b[0m \u001b[0;36m0\u001b[0m\u001b[0;34m,\u001b[0m \u001b[0minplace\u001b[0m \u001b[0;34m=\u001b[0m \u001b[0mTrue\u001b[0m \u001b[0;34m)\u001b[0m\u001b[0;34m\u001b[0m\u001b[0m\n\u001b[1;32m      3\u001b[0m \u001b[0mratings_matrix\u001b[0m\u001b[0;34m.\u001b[0m\u001b[0mhead\u001b[0m\u001b[0;34m(\u001b[0m\u001b[0;36m15\u001b[0m\u001b[0;34m)\u001b[0m\u001b[0;34m\u001b[0m\u001b[0m\n\u001b[1;32m      4\u001b[0m \u001b[0;32mprint\u001b[0m\u001b[0;34m(\u001b[0m\u001b[0mnewdf\u001b[0m\u001b[0;34m.\u001b[0m\u001b[0mloc\u001b[0m\u001b[0;34m[\u001b[0m\u001b[0mnewdf\u001b[0m\u001b[0;34m[\u001b[0m\u001b[0;34m'user_id'\u001b[0m\u001b[0;34m]\u001b[0m \u001b[0;34m==\u001b[0m \u001b[0;36m4\u001b[0m\u001b[0;34m]\u001b[0m\u001b[0;34m)\u001b[0m\u001b[0;34m\u001b[0m\u001b[0m\n",
      "\u001b[0;32m/usr/lib/spark/python/pyspark/sql/dataframe.py\u001b[0m in \u001b[0;36m__getattr__\u001b[0;34m(self, name)\u001b[0m\n\u001b[1;32m    840\u001b[0m         \u001b[0;32mif\u001b[0m \u001b[0mname\u001b[0m \u001b[0;32mnot\u001b[0m \u001b[0;32min\u001b[0m \u001b[0mself\u001b[0m\u001b[0;34m.\u001b[0m\u001b[0mcolumns\u001b[0m\u001b[0;34m:\u001b[0m\u001b[0;34m\u001b[0m\u001b[0m\n\u001b[1;32m    841\u001b[0m             raise AttributeError(\n\u001b[0;32m--> 842\u001b[0;31m                 \"'%s' object has no attribute '%s'\" % (self.__class__.__name__, name))\n\u001b[0m\u001b[1;32m    843\u001b[0m         \u001b[0mjc\u001b[0m \u001b[0;34m=\u001b[0m \u001b[0mself\u001b[0m\u001b[0;34m.\u001b[0m\u001b[0m_jdf\u001b[0m\u001b[0;34m.\u001b[0m\u001b[0mapply\u001b[0m\u001b[0;34m(\u001b[0m\u001b[0mname\u001b[0m\u001b[0;34m)\u001b[0m\u001b[0;34m\u001b[0m\u001b[0m\n\u001b[1;32m    844\u001b[0m         \u001b[0;32mreturn\u001b[0m \u001b[0mColumn\u001b[0m\u001b[0;34m(\u001b[0m\u001b[0mjc\u001b[0m\u001b[0;34m)\u001b[0m\u001b[0;34m\u001b[0m\u001b[0m\n",
      "\u001b[0;31mAttributeError\u001b[0m: 'DataFrame' object has no attribute 'pivot_table'"
     ]
    }
   ],
   "source": [
    "ratings_matrix = newdf.pivot_table(rows=['user_id'],cols=['movie_id'],values='rating')\n",
    "ratings_matrix.fillna( 0, inplace = True )\n",
    "ratings_matrix.head(15)\n",
    "print(newdf.loc[newdf['user_id'] == 4])\n"
   ]
  },
  {
   "cell_type": "raw",
   "metadata": {},
   "source": []
  }
 ],
 "metadata": {
  "kernelspec": {
   "display_name": "Python 2",
   "language": "python",
   "name": "python2"
  },
  "language_info": {
   "codemirror_mode": {
    "name": "ipython",
    "version": 2
   },
   "file_extension": ".py",
   "mimetype": "text/x-python",
   "name": "python",
   "nbconvert_exporter": "python",
   "pygments_lexer": "ipython2",
   "version": "2.7.5"
  }
 },
 "nbformat": 4,
 "nbformat_minor": 2
}
